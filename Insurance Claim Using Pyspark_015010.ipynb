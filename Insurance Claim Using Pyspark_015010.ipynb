{
 "cells": [
  {
   "cell_type": "code",
   "execution_count": 1,
   "metadata": {},
   "outputs": [],
   "source": [
    "import numpy as np\n",
    "\n",
    "from pyspark.ml.feature import StringIndexer, OneHotEncoder\n",
    "\n",
    "from pyspark.ml.feature import VectorAssembler\n",
    "from pyspark.ml.feature import MinMaxScaler, StandardScaler\n",
    "from pyspark.ml import Pipeline\n",
    "\n",
    "from pyspark.ml.regression import LinearRegression\n",
    "\n",
    "from pyspark.ml.regression import DecisionTreeRegressor\n",
    "\n",
    "from pyspark.ml.regression import RandomForestRegressor\n",
    "\n",
    "from pyspark.ml.tuning import ParamGridBuilder, CrossValidator\n",
    "\n",
    "import time"
   ]
  },
  {
   "cell_type": "code",
   "execution_count": 3,
   "metadata": {},
   "outputs": [],
   "source": [
    "data=spark.read.csv(path=\"insurance.csv\", sep=\",\", header=True, inferSchema=True)"
   ]
  },
  {
   "cell_type": "code",
   "execution_count": 4,
   "metadata": {},
   "outputs": [
    {
     "name": "stdout",
     "output_type": "stream",
     "text": [
      "+---+------+------+--------+------+---------+-----------+\n",
      "|age|   sex|   bmi|children|smoker|   region|    charges|\n",
      "+---+------+------+--------+------+---------+-----------+\n",
      "| 19|female|  27.9|       0|   yes|southwest|  16884.924|\n",
      "| 18|  male| 33.77|       1|    no|southeast|  1725.5523|\n",
      "| 28|  male|  33.0|       3|    no|southeast|   4449.462|\n",
      "| 33|  male|22.705|       0|    no|northwest|21984.47061|\n",
      "| 32|  male| 28.88|       0|    no|northwest|  3866.8552|\n",
      "| 31|female| 25.74|       0|    no|southeast|  3756.6216|\n",
      "| 46|female| 33.44|       1|    no|southeast|  8240.5896|\n",
      "| 37|female| 27.74|       3|    no|northwest|  7281.5056|\n",
      "| 37|  male| 29.83|       2|    no|northeast|  6406.4107|\n",
      "| 60|female| 25.84|       0|    no|northwest|28923.13692|\n",
      "| 25|  male| 26.22|       0|    no|northeast|  2721.3208|\n",
      "| 62|female| 26.29|       0|   yes|southeast| 27808.7251|\n",
      "| 23|  male|  34.4|       0|    no|southwest|   1826.843|\n",
      "| 56|female| 39.82|       0|    no|southeast| 11090.7178|\n",
      "| 27|  male| 42.13|       0|   yes|southeast| 39611.7577|\n",
      "| 19|  male|  24.6|       1|    no|southwest|   1837.237|\n",
      "| 52|female| 30.78|       1|    no|northeast| 10797.3362|\n",
      "| 23|  male|23.845|       0|    no|northeast| 2395.17155|\n",
      "| 56|  male|  40.3|       0|    no|southwest|  10602.385|\n",
      "| 30|  male|  35.3|       0|   yes|southwest|  36837.467|\n",
      "+---+------+------+--------+------+---------+-----------+\n",
      "only showing top 20 rows\n",
      "\n"
     ]
    }
   ],
   "source": [
    "data.show()"
   ]
  },
  {
   "cell_type": "markdown",
   "metadata": {},
   "source": [
    "# Data Exploration"
   ]
  },
  {
   "cell_type": "code",
   "execution_count": 5,
   "metadata": {},
   "outputs": [
    {
     "data": {
      "text/plain": [
       "['age', 'sex', 'bmi', 'children', 'smoker', 'region', 'charges']"
      ]
     },
     "execution_count": 5,
     "metadata": {},
     "output_type": "execute_result"
    }
   ],
   "source": [
    "data.columns"
   ]
  },
  {
   "cell_type": "code",
   "execution_count": 6,
   "metadata": {},
   "outputs": [
    {
     "data": {
      "text/plain": [
       "7"
      ]
     },
     "execution_count": 6,
     "metadata": {},
     "output_type": "execute_result"
    }
   ],
   "source": [
    "len(data.columns)"
   ]
  },
  {
   "cell_type": "code",
   "execution_count": 7,
   "metadata": {},
   "outputs": [
    {
     "name": "stdout",
     "output_type": "stream",
     "text": [
      "root\n",
      " |-- age: integer (nullable = true)\n",
      " |-- sex: string (nullable = true)\n",
      " |-- bmi: double (nullable = true)\n",
      " |-- children: integer (nullable = true)\n",
      " |-- smoker: string (nullable = true)\n",
      " |-- region: string (nullable = true)\n",
      " |-- charges: double (nullable = true)\n",
      "\n"
     ]
    }
   ],
   "source": [
    "data.printSchema()"
   ]
  },
  {
   "cell_type": "code",
   "execution_count": 8,
   "metadata": {},
   "outputs": [
    {
     "data": {
      "text/plain": [
       "[Row(age=19, sex='female', bmi=27.9, children=0, smoker='yes', region='southwest', charges=16884.924),\n",
       " Row(age=18, sex='male', bmi=33.77, children=1, smoker='no', region='southeast', charges=1725.5523)]"
      ]
     },
     "execution_count": 8,
     "metadata": {},
     "output_type": "execute_result"
    }
   ],
   "source": [
    "data.head(2)"
   ]
  },
  {
   "cell_type": "code",
   "execution_count": 9,
   "metadata": {},
   "outputs": [
    {
     "name": "stdout",
     "output_type": "stream",
     "text": [
      "+-----------+\n",
      "|    charges|\n",
      "+-----------+\n",
      "|  16884.924|\n",
      "|  1725.5523|\n",
      "|   4449.462|\n",
      "|21984.47061|\n",
      "|  3866.8552|\n",
      "|  3756.6216|\n",
      "|  8240.5896|\n",
      "|  7281.5056|\n",
      "|  6406.4107|\n",
      "|28923.13692|\n",
      "|  2721.3208|\n",
      "| 27808.7251|\n",
      "|   1826.843|\n",
      "| 11090.7178|\n",
      "| 39611.7577|\n",
      "+-----------+\n",
      "only showing top 15 rows\n",
      "\n"
     ]
    }
   ],
   "source": [
    "data.select(\"charges\").show(15)"
   ]
  },
  {
   "cell_type": "code",
   "execution_count": 10,
   "metadata": {},
   "outputs": [
    {
     "data": {
      "text/plain": [
       "1338"
      ]
     },
     "execution_count": 10,
     "metadata": {},
     "output_type": "execute_result"
    }
   ],
   "source": [
    "data.count()"
   ]
  },
  {
   "cell_type": "code",
   "execution_count": 11,
   "metadata": {},
   "outputs": [
    {
     "name": "stdout",
     "output_type": "stream",
     "text": [
      "+------+-----+\n",
      "|smoker|count|\n",
      "+------+-----+\n",
      "|    no| 1064|\n",
      "|   yes|  274|\n",
      "+------+-----+\n",
      "\n"
     ]
    }
   ],
   "source": [
    "data.groupby('smoker').count().show()"
   ]
  },
  {
   "cell_type": "code",
   "execution_count": 12,
   "metadata": {},
   "outputs": [
    {
     "name": "stdout",
     "output_type": "stream",
     "text": [
      "+--------+-----+\n",
      "|children|count|\n",
      "+--------+-----+\n",
      "|       1|  324|\n",
      "|       3|  157|\n",
      "|       5|   18|\n",
      "|       4|   25|\n",
      "|       2|  240|\n",
      "|       0|  574|\n",
      "+--------+-----+\n",
      "\n"
     ]
    }
   ],
   "source": [
    "data.groupby('children').count().show()"
   ]
  },
  {
   "cell_type": "code",
   "execution_count": 13,
   "metadata": {},
   "outputs": [
    {
     "name": "stdout",
     "output_type": "stream",
     "text": [
      "+------+-----+\n",
      "|   sex|count|\n",
      "+------+-----+\n",
      "|female|  662|\n",
      "|  male|  676|\n",
      "+------+-----+\n",
      "\n"
     ]
    }
   ],
   "source": [
    "data.groupby('sex').count().show()"
   ]
  },
  {
   "cell_type": "code",
   "execution_count": 14,
   "metadata": {},
   "outputs": [
    {
     "name": "stdout",
     "output_type": "stream",
     "text": [
      "+-------+------------------+------+------------------+-----------------+------+---------+------------------+\n",
      "|summary|               age|   sex|               bmi|         children|smoker|   region|           charges|\n",
      "+-------+------------------+------+------------------+-----------------+------+---------+------------------+\n",
      "|  count|              1338|  1338|              1338|             1338|  1338|     1338|              1338|\n",
      "|   mean| 39.20702541106129|  null|30.663396860986538|  1.0949177877429|  null|     null|13270.422265141257|\n",
      "| stddev|14.049960379216147|  null| 6.098186911679012|1.205492739781914|  null|     null|12110.011236693992|\n",
      "|    min|                18|female|             15.96|                0|    no|northeast|         1121.8739|\n",
      "|    max|                64|  male|             53.13|                5|   yes|southwest|       63770.42801|\n",
      "+-------+------------------+------+------------------+-----------------+------+---------+------------------+\n",
      "\n"
     ]
    }
   ],
   "source": [
    "data.describe().show()"
   ]
  },
  {
   "cell_type": "code",
   "execution_count": 15,
   "metadata": {},
   "outputs": [
    {
     "name": "stdout",
     "output_type": "stream",
     "text": [
      "+---+\n",
      "|age|\n",
      "+---+\n",
      "| 19|\n",
      "| 18|\n",
      "| 28|\n",
      "| 33|\n",
      "| 32|\n",
      "| 31|\n",
      "| 46|\n",
      "| 37|\n",
      "| 37|\n",
      "| 60|\n",
      "| 25|\n",
      "| 62|\n",
      "| 23|\n",
      "| 56|\n",
      "| 27|\n",
      "| 19|\n",
      "| 52|\n",
      "| 23|\n",
      "| 56|\n",
      "| 30|\n",
      "+---+\n",
      "only showing top 20 rows\n",
      "\n"
     ]
    }
   ],
   "source": [
    "data.select(\"age\").show()"
   ]
  },
  {
   "cell_type": "code",
   "execution_count": 16,
   "metadata": {},
   "outputs": [
    {
     "data": {
      "text/plain": [
       "0.1092718815485351"
      ]
     },
     "execution_count": 16,
     "metadata": {},
     "output_type": "execute_result"
    }
   ],
   "source": [
    "data.corr('age','bmi')"
   ]
  },
  {
   "cell_type": "code",
   "execution_count": 17,
   "metadata": {},
   "outputs": [],
   "source": [
    "vc1=VectorAssembler(\n",
    "    inputCols=['age',\"bmi\",'children','charges'],\n",
    "    outputCol='numeric')\n",
    "dx1=vc1.transform(data).select('numeric')"
   ]
  },
  {
   "cell_type": "code",
   "execution_count": 18,
   "metadata": {},
   "outputs": [
    {
     "name": "stdout",
     "output_type": "stream",
     "text": [
      "+--------------------+\n",
      "|             numeric|\n",
      "+--------------------+\n",
      "|[19.0,27.9,0.0,16...|\n",
      "|[18.0,33.77,1.0,1...|\n",
      "|[28.0,33.0,3.0,44...|\n",
      "|[33.0,22.705,0.0,...|\n",
      "|[32.0,28.88,0.0,3...|\n",
      "|[31.0,25.74,0.0,3...|\n",
      "|[46.0,33.44,1.0,8...|\n",
      "|[37.0,27.74,3.0,7...|\n",
      "|[37.0,29.83,2.0,6...|\n",
      "|[60.0,25.84,0.0,2...|\n",
      "|[25.0,26.22,0.0,2...|\n",
      "|[62.0,26.29,0.0,2...|\n",
      "|[23.0,34.4,0.0,18...|\n",
      "|[56.0,39.82,0.0,1...|\n",
      "|[27.0,42.13,0.0,3...|\n",
      "|[19.0,24.6,1.0,18...|\n",
      "|[52.0,30.78,1.0,1...|\n",
      "|[23.0,23.845,0.0,...|\n",
      "|[56.0,40.3,0.0,10...|\n",
      "|[30.0,35.3,0.0,36...|\n",
      "+--------------------+\n",
      "only showing top 20 rows\n",
      "\n"
     ]
    }
   ],
   "source": [
    "dx1.show()"
   ]
  },
  {
   "cell_type": "code",
   "execution_count": 19,
   "metadata": {},
   "outputs": [
    {
     "data": {
      "text/plain": [
       "['age', 'sex', 'bmi', 'children', 'smoker', 'region', 'charges']"
      ]
     },
     "execution_count": 19,
     "metadata": {},
     "output_type": "execute_result"
    }
   ],
   "source": [
    "data.columns"
   ]
  },
  {
   "cell_type": "code",
   "execution_count": 20,
   "metadata": {},
   "outputs": [],
   "source": [
    "abc1=data.toPandas()"
   ]
  },
  {
   "cell_type": "code",
   "execution_count": 21,
   "metadata": {},
   "outputs": [
    {
     "data": {
      "text/html": [
       "<div>\n",
       "<style scoped>\n",
       "    .dataframe tbody tr th:only-of-type {\n",
       "        vertical-align: middle;\n",
       "    }\n",
       "\n",
       "    .dataframe tbody tr th {\n",
       "        vertical-align: top;\n",
       "    }\n",
       "\n",
       "    .dataframe thead th {\n",
       "        text-align: right;\n",
       "    }\n",
       "</style>\n",
       "<table border=\"1\" class=\"dataframe\">\n",
       "  <thead>\n",
       "    <tr style=\"text-align: right;\">\n",
       "      <th></th>\n",
       "      <th>age</th>\n",
       "      <th>sex</th>\n",
       "      <th>bmi</th>\n",
       "      <th>children</th>\n",
       "      <th>smoker</th>\n",
       "      <th>region</th>\n",
       "      <th>charges</th>\n",
       "    </tr>\n",
       "  </thead>\n",
       "  <tbody>\n",
       "    <tr>\n",
       "      <th>0</th>\n",
       "      <td>19</td>\n",
       "      <td>female</td>\n",
       "      <td>27.90</td>\n",
       "      <td>0</td>\n",
       "      <td>yes</td>\n",
       "      <td>southwest</td>\n",
       "      <td>16884.9240</td>\n",
       "    </tr>\n",
       "    <tr>\n",
       "      <th>1</th>\n",
       "      <td>18</td>\n",
       "      <td>male</td>\n",
       "      <td>33.77</td>\n",
       "      <td>1</td>\n",
       "      <td>no</td>\n",
       "      <td>southeast</td>\n",
       "      <td>1725.5523</td>\n",
       "    </tr>\n",
       "  </tbody>\n",
       "</table>\n",
       "</div>"
      ],
      "text/plain": [
       "   age     sex    bmi  children smoker     region     charges\n",
       "0   19  female  27.90         0    yes  southwest  16884.9240\n",
       "1   18    male  33.77         1     no  southeast   1725.5523"
      ]
     },
     "execution_count": 21,
     "metadata": {},
     "output_type": "execute_result"
    }
   ],
   "source": [
    "abc1.head(2)"
   ]
  },
  {
   "cell_type": "code",
   "execution_count": 22,
   "metadata": {},
   "outputs": [
    {
     "data": {
      "text/plain": [
       "0"
      ]
     },
     "execution_count": 22,
     "metadata": {},
     "output_type": "execute_result"
    }
   ],
   "source": [
    "data.select('*').where(data.charges.isNull()).count()"
   ]
  },
  {
   "cell_type": "code",
   "execution_count": 23,
   "metadata": {},
   "outputs": [],
   "source": [
    "from pyspark.sql.functions import isnan, when, count, col\n",
    "def get_null_value_count(data):\n",
    "    data.select([count(when(isnan(c) | col(c).isNull(),c)).alias(c) for c in data.columns]).show()"
   ]
  },
  {
   "cell_type": "code",
   "execution_count": 24,
   "metadata": {},
   "outputs": [
    {
     "name": "stdout",
     "output_type": "stream",
     "text": [
      "+---+---+---+--------+------+------+-------+\n",
      "|age|sex|bmi|children|smoker|region|charges|\n",
      "+---+---+---+--------+------+------+-------+\n",
      "|  0|  0|  0|       0|     0|     0|      0|\n",
      "+---+---+---+--------+------+------+-------+\n",
      "\n"
     ]
    }
   ],
   "source": [
    "get_null_value_count(data)"
   ]
  },
  {
   "cell_type": "code",
   "execution_count": 25,
   "metadata": {},
   "outputs": [
    {
     "data": {
      "text/plain": [
       "[('age', 'int'),\n",
       " ('sex', 'string'),\n",
       " ('bmi', 'double'),\n",
       " ('children', 'int'),\n",
       " ('smoker', 'string'),\n",
       " ('region', 'string'),\n",
       " ('charges', 'double')]"
      ]
     },
     "execution_count": 25,
     "metadata": {},
     "output_type": "execute_result"
    }
   ],
   "source": [
    "data.dtypes"
   ]
  },
  {
   "cell_type": "code",
   "execution_count": 26,
   "metadata": {},
   "outputs": [],
   "source": [
    " cat_cols1=[c[0] for c in data.dtypes if c[1]==\"string\"]"
   ]
  },
  {
   "cell_type": "code",
   "execution_count": 27,
   "metadata": {},
   "outputs": [
    {
     "data": {
      "text/plain": [
       "['sex', 'smoker', 'region']"
      ]
     },
     "execution_count": 27,
     "metadata": {},
     "output_type": "execute_result"
    }
   ],
   "source": [
    "cat_cols1"
   ]
  },
  {
   "cell_type": "code",
   "execution_count": 28,
   "metadata": {},
   "outputs": [
    {
     "data": {
      "text/plain": [
       "['age', 'bmi', 'children', 'charges']"
      ]
     },
     "execution_count": 28,
     "metadata": {},
     "output_type": "execute_result"
    }
   ],
   "source": [
    "num_cols1=[c[0] for c in data.dtypes if c[1]!=\"string\"]\n",
    "num_cols1"
   ]
  },
  {
   "cell_type": "code",
   "execution_count": 29,
   "metadata": {},
   "outputs": [
    {
     "data": {
      "text/plain": [
       "['age', 'bmi', 'children']"
      ]
     },
     "execution_count": 29,
     "metadata": {},
     "output_type": "execute_result"
    }
   ],
   "source": [
    "num_cols1=num_cols1[0:3]\n",
    "num_cols1"
   ]
  },
  {
   "cell_type": "code",
   "execution_count": 30,
   "metadata": {},
   "outputs": [
    {
     "data": {
      "text/plain": [
       "['sex_ohe', 'smoker_ohe', 'region_ohe']"
      ]
     },
     "execution_count": 30,
     "metadata": {},
     "output_type": "execute_result"
    }
   ],
   "source": [
    "ohe_cols1=[c+\"_ohe\" for c in cat_cols1]\n",
    "ohe_cols1"
   ]
  },
  {
   "cell_type": "code",
   "execution_count": 31,
   "metadata": {},
   "outputs": [
    {
     "name": "stdout",
     "output_type": "stream",
     "text": [
      "['sex_index', 'smoker_index', 'region_index']\n"
     ]
    }
   ],
   "source": [
    "cat_cols_si1= [c+\"_index\" for c in cat_cols1]\n",
    "print (cat_cols_si1)"
   ]
  },
  {
   "cell_type": "code",
   "execution_count": 32,
   "metadata": {},
   "outputs": [
    {
     "name": "stdout",
     "output_type": "stream",
     "text": [
      "['sex_ohe', 'smoker_ohe', 'region_ohe']\n"
     ]
    }
   ],
   "source": [
    "cat_cols_ohe1= [c+\"_ohe\" for c in cat_cols1]\n",
    "print (cat_cols_ohe1)"
   ]
  },
  {
   "cell_type": "code",
   "execution_count": 33,
   "metadata": {},
   "outputs": [
    {
     "name": "stdout",
     "output_type": "stream",
     "text": [
      "+-----------------+-----------+\n",
      "|       Attributes|    charges|\n",
      "+-----------------+-----------+\n",
      "|  [19.0,27.9,0.0]|  16884.924|\n",
      "| [18.0,33.77,1.0]|  1725.5523|\n",
      "|  [28.0,33.0,3.0]|   4449.462|\n",
      "|[33.0,22.705,0.0]|21984.47061|\n",
      "| [32.0,28.88,0.0]|  3866.8552|\n",
      "| [31.0,25.74,0.0]|  3756.6216|\n",
      "| [46.0,33.44,1.0]|  8240.5896|\n",
      "| [37.0,27.74,3.0]|  7281.5056|\n",
      "| [37.0,29.83,2.0]|  6406.4107|\n",
      "| [60.0,25.84,0.0]|28923.13692|\n",
      "| [25.0,26.22,0.0]|  2721.3208|\n",
      "| [62.0,26.29,0.0]| 27808.7251|\n",
      "|  [23.0,34.4,0.0]|   1826.843|\n",
      "| [56.0,39.82,0.0]| 11090.7178|\n",
      "| [27.0,42.13,0.0]| 39611.7577|\n",
      "|  [19.0,24.6,1.0]|   1837.237|\n",
      "| [52.0,30.78,1.0]| 10797.3362|\n",
      "|[23.0,23.845,0.0]| 2395.17155|\n",
      "|  [56.0,40.3,0.0]|  10602.385|\n",
      "|  [30.0,35.3,0.0]|  36837.467|\n",
      "+-----------------+-----------+\n",
      "only showing top 20 rows\n",
      "\n"
     ]
    }
   ],
   "source": [
    "assembler1 = VectorAssembler(inputCols=['age', 'bmi', 'children'], outputCol = 'Attributes')\n",
    "\n",
    "output1 = assembler1.transform(data)\n",
    "\n",
    "#Input vs Output\n",
    "finalized_data1 = output1.select(\"Attributes\", 'charges')\n",
    "\n",
    "finalized_data1.show()"
   ]
  },
  {
   "cell_type": "code",
   "execution_count": 34,
   "metadata": {},
   "outputs": [
    {
     "name": "stdout",
     "output_type": "stream",
     "text": [
      "+---------+-----+\n",
      "|   region|count|\n",
      "+---------+-----+\n",
      "|northwest|  325|\n",
      "|southeast|  364|\n",
      "|northeast|  324|\n",
      "|southwest|  325|\n",
      "+---------+-----+\n",
      "\n"
     ]
    }
   ],
   "source": [
    "data.groupby('region').count().show()"
   ]
  },
  {
   "cell_type": "code",
   "execution_count": 35,
   "metadata": {},
   "outputs": [
    {
     "data": {
      "text/plain": [
       "'southeast'"
      ]
     },
     "execution_count": 35,
     "metadata": {},
     "output_type": "execute_result"
    }
   ],
   "source": [
    "data.groupby('region').count().orderBy(\"count\", ascending=False).first()[0]"
   ]
  },
  {
   "cell_type": "code",
   "execution_count": 36,
   "metadata": {},
   "outputs": [
    {
     "data": {
      "text/plain": [
       "[['age', 18],\n",
       " ['sex', 'male'],\n",
       " ['bmi', 32.3],\n",
       " ['children', 0],\n",
       " ['smoker', 'no'],\n",
       " ['region', 'southeast'],\n",
       " ['charges', 1639.5631]]"
      ]
     },
     "execution_count": 36,
     "metadata": {},
     "output_type": "execute_result"
    }
   ],
   "source": [
    "[[i, data.groupby(i).count().orderBy(\"count\", ascending=False).first()[0]] for i in data.columns]"
   ]
  },
  {
   "cell_type": "code",
   "execution_count": 38,
   "metadata": {},
   "outputs": [],
   "source": [
    "## Pipeline\n",
    "pipe = Pipeline(\n",
    "                stages=[\n",
    "                    StringIndexer(\n",
    "                        inputCols=cat_cols1,\n",
    "                        outputCols=cat_cols_si1\n",
    "                    ),\n",
    "                    OneHotEncoder(\n",
    "                        inputCols=cat_cols_si1,\n",
    "                        outputCols=ohe_cols1\n",
    "                    ),\n",
    "                    VectorAssembler(\n",
    "                        inputCols=cat_cols_si1+num_cols1,\n",
    "                        outputCol=\"ass_features\"\n",
    "                    ),\n",
    "                    StandardScaler(\n",
    "                        inputCol=\"ass_features\",\n",
    "                        outputCol=\"features\"\n",
    "                    )\n",
    "                ]\n",
    "    )"
   ]
  },
  {
   "cell_type": "code",
   "execution_count": 40,
   "metadata": {},
   "outputs": [
    {
     "data": {
      "text/plain": [
       "['sex', 'smoker', 'region']"
      ]
     },
     "execution_count": 40,
     "metadata": {},
     "output_type": "execute_result"
    }
   ],
   "source": [
    "cat_cols1"
   ]
  },
  {
   "cell_type": "code",
   "execution_count": 41,
   "metadata": {},
   "outputs": [],
   "source": [
    "model1=pipe.fit(data)\n",
    "\n",
    "data_trans1=model1.transform(data)"
   ]
  },
  {
   "cell_type": "code",
   "execution_count": 42,
   "metadata": {},
   "outputs": [
    {
     "name": "stdout",
     "output_type": "stream",
     "text": [
      "['age', 'sex', 'bmi', 'children', 'smoker', 'region', 'charges', 'sex_index', 'smoker_index', 'region_index', 'sex_ohe', 'smoker_ohe', 'region_ohe', 'ass_features', 'features']\n"
     ]
    }
   ],
   "source": [
    "print (data_trans1.columns)"
   ]
  },
  {
   "cell_type": "code",
   "execution_count": 43,
   "metadata": {},
   "outputs": [
    {
     "data": {
      "text/plain": [
       "7"
      ]
     },
     "execution_count": 43,
     "metadata": {},
     "output_type": "execute_result"
    }
   ],
   "source": [
    "len(data.columns)"
   ]
  },
  {
   "cell_type": "code",
   "execution_count": 44,
   "metadata": {},
   "outputs": [
    {
     "data": {
      "text/plain": [
       "15"
      ]
     },
     "execution_count": 44,
     "metadata": {},
     "output_type": "execute_result"
    }
   ],
   "source": [
    "len(data_trans1.columns)"
   ]
  },
  {
   "cell_type": "markdown",
   "metadata": {},
   "source": [
    "# Train-Test Split"
   ]
  },
  {
   "cell_type": "code",
   "execution_count": 45,
   "metadata": {},
   "outputs": [],
   "source": [
    "train, test=data.randomSplit([0.75,0.25], seed=12345)"
   ]
  },
  {
   "cell_type": "code",
   "execution_count": 46,
   "metadata": {},
   "outputs": [
    {
     "data": {
      "text/plain": [
       "1017"
      ]
     },
     "execution_count": 46,
     "metadata": {},
     "output_type": "execute_result"
    }
   ],
   "source": [
    "train.count()"
   ]
  },
  {
   "cell_type": "code",
   "execution_count": 47,
   "metadata": {},
   "outputs": [
    {
     "data": {
      "text/plain": [
       "321"
      ]
     },
     "execution_count": 47,
     "metadata": {},
     "output_type": "execute_result"
    }
   ],
   "source": [
    "test.count()"
   ]
  },
  {
   "cell_type": "markdown",
   "metadata": {},
   "source": [
    "# Linear Regression"
   ]
  },
  {
   "cell_type": "code",
   "execution_count": 49,
   "metadata": {},
   "outputs": [],
   "source": [
    "pipe = Pipeline(\n",
    "                stages=[\n",
    "                 \n",
    "                    StringIndexer(\n",
    "                        inputCols=cat_cols1,\n",
    "                        handleInvalid='keep',\n",
    "                        outputCols=cat_cols_si1\n",
    "                    ),\n",
    "                    OneHotEncoder(\n",
    "                        inputCols=cat_cols_si1,\n",
    "                        outputCols=ohe_cols1\n",
    "                    ),\n",
    "                    VectorAssembler(\n",
    "                        inputCols=cat_cols_si1+num_cols1,\n",
    "                        outputCol=\"ass_features\"\n",
    "                    ),\n",
    "                    StandardScaler(\n",
    "                        inputCol=\"ass_features\",\n",
    "                        outputCol=\"features\"\n",
    "                    ),\n",
    "                    LinearRegression(featuresCol= 'features', labelCol='charges')\n",
    "                ]\n",
    "    )"
   ]
  },
  {
   "cell_type": "code",
   "execution_count": 50,
   "metadata": {},
   "outputs": [
    {
     "data": {
      "text/plain": [
       "0.046072769165039065"
      ]
     },
     "execution_count": 50,
     "metadata": {},
     "output_type": "execute_result"
    }
   ],
   "source": [
    "# Training of model\n",
    "start=time.time()\n",
    "lrModel=pipe.fit(train)\n",
    "end=time.time()\n",
    "(end-start)/60"
   ]
  },
  {
   "cell_type": "markdown",
   "metadata": {},
   "source": [
    "# Prediction of Linear Regression"
   ]
  },
  {
   "cell_type": "code",
   "execution_count": 51,
   "metadata": {},
   "outputs": [],
   "source": [
    "predictions1=lrModel.transform(test)"
   ]
  },
  {
   "cell_type": "code",
   "execution_count": 52,
   "metadata": {},
   "outputs": [
    {
     "data": {
      "text/plain": [
       "['age',\n",
       " 'sex',\n",
       " 'bmi',\n",
       " 'children',\n",
       " 'smoker',\n",
       " 'region',\n",
       " 'charges',\n",
       " 'sex_index',\n",
       " 'smoker_index',\n",
       " 'region_index',\n",
       " 'sex_ohe',\n",
       " 'smoker_ohe',\n",
       " 'region_ohe',\n",
       " 'ass_features',\n",
       " 'features',\n",
       " 'prediction']"
      ]
     },
     "execution_count": 52,
     "metadata": {},
     "output_type": "execute_result"
    }
   ],
   "source": [
    "predictions1.columns"
   ]
  },
  {
   "cell_type": "code",
   "execution_count": 53,
   "metadata": {},
   "outputs": [],
   "source": [
    "from pyspark.ml.evaluation import RegressionEvaluator\n",
    "eval = RegressionEvaluator(labelCol=\"charges\", predictionCol=\"prediction\")"
   ]
  },
  {
   "cell_type": "code",
   "execution_count": 54,
   "metadata": {},
   "outputs": [
    {
     "name": "stdout",
     "output_type": "stream",
     "text": [
      "RMSE: 6208.781642295839\n",
      "R-squared: 0.7213557804083071\n"
     ]
    }
   ],
   "source": [
    "print('RMSE:', eval.evaluate(predictions1, {eval.metricName: \"rmse\"}))\n",
    "print('R-squared:', eval.evaluate(predictions1, {eval.metricName: \"r2\"}))"
   ]
  },
  {
   "cell_type": "markdown",
   "metadata": {},
   "source": [
    "# Random Forest Regressor"
   ]
  },
  {
   "cell_type": "code",
   "execution_count": 56,
   "metadata": {},
   "outputs": [],
   "source": [
    "pipe3 = Pipeline(\n",
    "                stages=[\n",
    "                 \n",
    "                    StringIndexer(\n",
    "                        inputCols=cat_cols1,\n",
    "                        handleInvalid='keep',\n",
    "                        outputCols=cat_cols_si1\n",
    "                    ),\n",
    "                    OneHotEncoder(\n",
    "                        inputCols=cat_cols_si1,\n",
    "                        outputCols=ohe_cols1\n",
    "                    ),\n",
    "                    VectorAssembler(\n",
    "                        inputCols=cat_cols_si1+num_cols1,\n",
    "                        outputCol=\"ass_features\"\n",
    "                    ),\n",
    "                    StandardScaler(\n",
    "                        inputCol=\"ass_features\",\n",
    "                        outputCol=\"features\"\n",
    "                    ),\n",
    "                    RandomForestRegressor( labelCol=\"charges\", featuresCol=\"features\")\n",
    "                ]\n",
    "    )"
   ]
  },
  {
   "cell_type": "code",
   "execution_count": 57,
   "metadata": {},
   "outputs": [],
   "source": [
    "rf = RandomForestRegressor(labelCol=\"charges\", featuresCol=\"features\")"
   ]
  },
  {
   "cell_type": "code",
   "execution_count": 58,
   "metadata": {},
   "outputs": [],
   "source": [
    "from pyspark.ml.tuning import ParamGridBuilder\n",
    "import numpy as np\n",
    "paramGrid = ParamGridBuilder() \\\n",
    "    .addGrid(rf.numTrees, [int(x) for x in np.linspace(start = 10, stop = 50, num = 3)]) \\\n",
    "    .addGrid(rf.maxDepth, [int(x) for x in np.linspace(start = 5, stop = 25, num = 3)]) \\\n",
    "    .build()"
   ]
  },
  {
   "cell_type": "code",
   "execution_count": 59,
   "metadata": {},
   "outputs": [],
   "source": [
    "# Evaluate model\n",
    "rfevaluator1 = RegressionEvaluator(predictionCol=\"prediction\", labelCol=\"charges\", metricName=\"rmse\")"
   ]
  },
  {
   "cell_type": "code",
   "execution_count": 60,
   "metadata": {},
   "outputs": [],
   "source": [
    "crossval = CrossValidator(estimator=pipe3,\n",
    "                          estimatorParamMaps=paramGrid,\n",
    "                          evaluator=rfevaluator1,\n",
    "                          numFolds=3)"
   ]
  },
  {
   "cell_type": "code",
   "execution_count": 61,
   "metadata": {},
   "outputs": [],
   "source": [
    "cvModel = crossval.fit(train)"
   ]
  },
  {
   "cell_type": "code",
   "execution_count": 62,
   "metadata": {},
   "outputs": [],
   "source": [
    "predictions = cvModel.transform(test)"
   ]
  },
  {
   "cell_type": "markdown",
   "metadata": {},
   "source": [
    "# Random Forest Regressor"
   ]
  },
  {
   "cell_type": "code",
   "execution_count": 63,
   "metadata": {},
   "outputs": [],
   "source": [
    "import matplotlib.pyplot as plt\n",
    "evaluator = RegressionEvaluator(labelCol=\"charges\", predictionCol=\"prediction\", metricName=\"rmse\")\n",
    "rmse_rf = evaluator.evaluate(predictions)\n",
    "rfPred = cvModel.transform(data)\n",
    "rfResult = rfPred.toPandas()"
   ]
  },
  {
   "cell_type": "code",
   "execution_count": 64,
   "metadata": {},
   "outputs": [
    {
     "data": {
      "image/png": "[encoded data removed]",
      "text/plain": [
       "<Figure size 432x288 with 1 Axes>"
      ]
     },
     "metadata": {
      "needs_background": "light"
     },
     "output_type": "display_data"
    }
   ],
   "source": [
    "plt.plot(rfResult.charges, rfResult.prediction, 'bo')\n",
    "plt.xlabel('Price')\n",
    "plt.ylabel('Prediction')\n",
    "plt.suptitle(\"Model Performance RMSE: %f\" % rmse_rf)\n",
    "plt.show()"
   ]
  },
  {
   "cell_type": "markdown",
   "metadata": {},
   "source": [
    "# Gradient Boosting Regressor"
   ]
  },
  {
   "cell_type": "code",
   "execution_count": 65,
   "metadata": {},
   "outputs": [],
   "source": [
    "from pyspark.ml.regression import GBTRegressor"
   ]
  },
  {
   "cell_type": "code",
   "execution_count": 67,
   "metadata": {},
   "outputs": [],
   "source": [
    "pipe4 = Pipeline(\n",
    "                stages=[\n",
    "                 \n",
    "                    StringIndexer(\n",
    "                        inputCols=cat_cols1,\n",
    "                        handleInvalid='keep',\n",
    "                        outputCols=cat_cols_si1\n",
    "                    ),\n",
    "                    OneHotEncoder(\n",
    "                        inputCols=cat_cols_si1,\n",
    "                        outputCols=ohe_cols1\n",
    "                    ),\n",
    "                    VectorAssembler(\n",
    "                        inputCols=cat_cols_si1+num_cols1,\n",
    "                        outputCol=\"ass_features\"\n",
    "                    ),\n",
    "                    StandardScaler(\n",
    "                        inputCol=\"ass_features\",\n",
    "                        outputCol=\"features\"\n",
    "                    ),\n",
    "                   GBTRegressor(featuresCol=\"features\", labelCol='charges',maxIter=10)\n",
    "                ]\n",
    "    )"
   ]
  },
  {
   "cell_type": "code",
   "execution_count": 68,
   "metadata": {},
   "outputs": [],
   "source": [
    "# Train model.  This also runs the indexer.\n",
    "model = pipe4.fit(train)\n",
    "\n",
    "# Make predictions.\n",
    "predictions = model.transform(test)"
   ]
  },
  {
   "cell_type": "code",
   "execution_count": 69,
   "metadata": {},
   "outputs": [
    {
     "name": "stdout",
     "output_type": "stream",
     "text": [
      "Root Mean Squared Error (RMSE) on test data = 4667.81\n"
     ]
    }
   ],
   "source": [
    "evaluator = RegressionEvaluator(\n",
    "    labelCol=\"charges\", predictionCol=\"prediction\", metricName=\"rmse\")\n",
    "rmse = evaluator.evaluate(predictions)\n",
    "print(\"Root Mean Squared Error (RMSE) on test data = %g\" % rmse)"
   ]
  },
  {
   "cell_type": "markdown",
   "metadata": {},
   "source": [
    "# Model Selection"
   ]
  },
  {
   "cell_type": "code",
   "execution_count": 70,
   "metadata": {},
   "outputs": [],
   "source": [
    "import pandas as pd\n",
    "model_errors= pd.DataFrame({\n",
    "    \"Model\": [\"LinearRegession\",\"RandomForestRegressor\"],\n",
    "    \"Score\": [rmse,rmse_rf]\n",
    "})"
   ]
  },
  {
   "cell_type": "code",
   "execution_count": 71,
   "metadata": {},
   "outputs": [
    {
     "data": {
      "text/html": [
       "<div>\n",
       "<style scoped>\n",
       "    .dataframe tbody tr th:only-of-type {\n",
       "        vertical-align: middle;\n",
       "    }\n",
       "\n",
       "    .dataframe tbody tr th {\n",
       "        vertical-align: top;\n",
       "    }\n",
       "\n",
       "    .dataframe thead th {\n",
       "        text-align: right;\n",
       "    }\n",
       "</style>\n",
       "<table border=\"1\" class=\"dataframe\">\n",
       "  <thead>\n",
       "    <tr style=\"text-align: right;\">\n",
       "      <th></th>\n",
       "      <th>Model</th>\n",
       "      <th>Score</th>\n",
       "    </tr>\n",
       "  </thead>\n",
       "  <tbody>\n",
       "    <tr>\n",
       "      <th>0</th>\n",
       "      <td>LinearRegession</td>\n",
       "      <td>4667.811183</td>\n",
       "    </tr>\n",
       "    <tr>\n",
       "      <th>1</th>\n",
       "      <td>RandomForestRegressor</td>\n",
       "      <td>5186.317144</td>\n",
       "    </tr>\n",
       "  </tbody>\n",
       "</table>\n",
       "</div>"
      ],
      "text/plain": [
       "                   Model        Score\n",
       "0        LinearRegession  4667.811183\n",
       "1  RandomForestRegressor  5186.317144"
      ]
     },
     "execution_count": 71,
     "metadata": {},
     "output_type": "execute_result"
    }
   ],
   "source": [
    "model_errors.sort_values(by='Score',ascending=True)"
   ]
  },
  {
   "cell_type": "code",
   "execution_count": null,
   "metadata": {},
   "outputs": [],
   "source": []
  }
 ],
 "metadata": {
  "kernelspec": {
   "display_name": "Python 3",
   "language": "python",
   "name": "python3"
  },
  "language_info": {
   "codemirror_mode": {
    "name": "ipython",
    "version": 3
   },
   "file_extension": ".py",
   "mimetype": "text/x-python",
   "name": "python",
   "nbconvert_exporter": "python",
   "pygments_lexer": "ipython3",
   "version": "3.7.3"
  }
 },
 "nbformat": 4,
 "nbformat_minor": 2
}
